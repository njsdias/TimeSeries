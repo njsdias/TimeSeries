{
 "cells": [
  {
   "cell_type": "markdown",
   "metadata": {},
   "source": [
    "## Chapter 6: Elman Neural Networks"
   ]
  },
  {
   "cell_type": "markdown",
   "metadata": {},
   "source": [
    "Elman neural networks are a popular **partially recurrent\n",
    "neural network.** They were initially designed to learn\n",
    "sequential or time-varying patterns.\n",
    "\n",
    "They are composed of an \n",
    "- input layer\n",
    "- a context layer (also called a recurrent or delay layer)\n",
    "- a hidden layer,\n",
    "- and an output layer\n",
    "\n",
    "Each layer contains one or more neurons\n",
    "which propagate information from one layer to another by computing\n",
    "a nonlinear function of their weighted sum of inputs\n",
    "\n",
    "In an Elman neural network the number of neurons in the\n",
    "context layer is equal to the number of neurons in the hidden\n",
    "layer. In addition, the context layer neurons are fully connected\n",
    "to all the neurons in the hidden layer.\n",
    "\n",
    "The great thing about neural networks is that\n",
    "you **do not need to specify the exact nature of the relationship\n",
    "(linear, non-linear, seasonality,trend) that exists between the\n",
    "input and output.** The hidden layers of a deep neural network\n",
    "(DNN) remove the need to prespecify the nature of the data\n",
    "generating mechanism. This is because they can approximate\n",
    "extremely complex decision functions."
   ]
  },
  {
   "cell_type": "code",
   "execution_count": 10,
   "metadata": {},
   "outputs": [],
   "source": [
    "import pandas as pd\n",
    "import numpy as np\n",
    "\n",
    "from sklearn import preprocessing\n",
    "\n",
    "from pyneurgen.neuralnet import NeuralNet\n",
    "from pyneurgen.recurrent import ElmanSimpleRecurrent\n",
    "\n",
    "import matplotlib.pyplot as plt\n",
    "from pylab import plot, legend, subplot\n",
    "\n",
    "import random"
   ]
  },
  {
   "cell_type": "code",
   "execution_count": 2,
   "metadata": {},
   "outputs": [],
   "source": [
    "loc = \"COE.csv\"\n",
    "temp = pd.read_csv(loc)\n",
    "\n",
    "data = temp.drop(temp.columns[[0,1]], axis = 1)\n",
    "y= data['COE$']\n",
    "\n",
    "x = data.drop(data.columns[[0,4]], axis = 1)\n",
    "x =x.apply(np.log)\n",
    "x = pd.concat([x, data['Open?']], axis = 1)\n",
    "\n",
    "\n",
    "scaler_x = preprocessing. MinMaxScaler(feature_range=(0,1))\n",
    "x = np.array(x).reshape((len(x),4))\n",
    "x = scaler_x.fit_transform(x)\n",
    "\n",
    "\n",
    "scaler_y = preprocessing. MinMaxScaler(feature_range=(0,1))\n",
    "y = np.array(y).reshape((len(y),1))\n",
    "y = np.log(y)\n",
    "y = scaler_y.fit_transform(y)\n",
    "\n",
    "x = x.tolist()\n",
    "y = y.tolist()"
   ]
  },
  {
   "cell_type": "markdown",
   "metadata": {},
   "source": [
    "In the below code the sigmoid activation function is used for\n",
    "the hidden nodes with the learning rate set to 5%. \n",
    "\n",
    "That means\n",
    "that 5% of the error between each instance of target and output\n",
    "will be communicated back down the network during training."
   ]
  },
  {
   "cell_type": "code",
   "execution_count": 4,
   "metadata": {},
   "outputs": [],
   "source": [
    "random.seed(2016)\n",
    "\n",
    "fit1 =NeuralNet()\n",
    "\n",
    "input_nodes= 4\n",
    "hidden_nodes = 7\n",
    "output_nodes= 1\n",
    "\n",
    "fit1.init_layers(input_nodes, [hidden_nodes], output_nodes, ElmanSimpleRecurrent())\n",
    "fit1.randomize_network()\n",
    "fit1.layers[1].set_activation_type('sigmoid')\n",
    "fit1.set_learnrate(0.05)\n",
    "\n",
    "fit1.set_all_inputs(x)\n",
    "fit1.set_all_targets(y)"
   ]
  },
  {
   "cell_type": "code",
   "execution_count": 8,
   "metadata": {},
   "outputs": [
    {
     "name": "stdout",
     "output_type": "stream",
     "text": [
      "epoch: 0 MSE: 0.00573194277475706\n",
      "epoch: 1 MSE: 0.0019729435349669674\n",
      "epoch: 2 MSE: 0.0019074680216713635\n",
      "epoch: 3 MSE: 0.001846417501070099\n",
      "epoch: 4 MSE: 0.0017892591217795184\n",
      "epoch: 5 MSE: 0.0017355492254891231\n",
      "epoch: 6 MSE: 0.0016849166543919014\n",
      "epoch: 7 MSE: 0.0016370495060064074\n",
      "epoch: 8 MSE: 0.0015916845350384433\n",
      "epoch: 9 MSE: 0.0015485986075628073\n",
      "epoch: 10 MSE: 0.001507601761509562\n",
      "epoch: 11 MSE: 0.0014685315359617831\n",
      "epoch: 12 MSE: 0.0014312483116449926\n",
      "epoch: 13 MSE: 0.0013956314642426455\n",
      "epoch: 14 MSE: 0.001361576176459665\n",
      "epoch: 15 MSE: 0.0013289907880949241\n",
      "epoch: 16 MSE: 0.001297794588656569\n",
      "epoch: 17 MSE: 0.0012679159763469676\n",
      "epoch: 18 MSE: 0.0012392909220780113\n",
      "epoch: 19 MSE: 0.0012118616886689804\n",
      "epoch: 20 MSE: 0.001185575764353178\n",
      "epoch: 21 MSE: 0.0011603849767882599\n",
      "epoch: 22 MSE: 0.0011362447593853452\n",
      "epoch: 23 MSE: 0.0011131135462850849\n",
      "epoch: 24 MSE: 0.0010909522759712197\n",
      "epoch: 25 MSE: 0.0010697239865164047\n",
      "epoch: 26 MSE: 0.001049393487946552\n",
      "epoch: 27 MSE: 0.001029927099297627\n",
      "epoch: 28 MSE: 0.0010112924397061057\n",
      "epoch: 29 MSE: 0.000993458264383115\n",
      "epoch: 30 MSE: 0.0009763943376207293\n",
      "epoch: 31 MSE: 0.0009600713361031395\n",
      "epoch: 32 MSE: 0.0009444607767733499\n",
      "epoch: 33 MSE: 0.0009295349643596029\n",
      "epoch: 34 MSE: 0.0009152669544118594\n",
      "epoch: 35 MSE: 0.0009016305283512825\n",
      "epoch: 36 MSE: 0.0008886001776057452\n",
      "epoch: 37 MSE: 0.0008761510944015468\n",
      "epoch: 38 MSE: 0.0008642591672136507\n",
      "epoch: 39 MSE: 0.0008529009792507787\n",
      "epoch: 40 MSE: 0.0008420538086738547\n",
      "epoch: 41 MSE: 0.0008316956295221729\n",
      "epoch: 42 MSE: 0.0008218051125562461\n",
      "epoch: 43 MSE: 0.0008123616254241766\n",
      "epoch: 44 MSE: 0.0008033452317239588\n",
      "epoch: 45 MSE: 0.0007947366886711366\n",
      "epoch: 46 MSE: 0.0007865174431932375\n",
      "epoch: 47 MSE: 0.0007786696263629333\n",
      "epoch: 48 MSE: 0.0007711760461533624\n",
      "epoch: 49 MSE: 0.0007640201785549445\n",
      "epoch: 50 MSE: 0.0007571861571348881\n",
      "epoch: 51 MSE: 0.0007506587611513331\n",
      "epoch: 52 MSE: 0.000744423402355104\n",
      "epoch: 53 MSE: 0.0007384661106253744\n",
      "epoch: 54 MSE: 0.0007327735185923847\n",
      "epoch: 55 MSE: 0.0007273328454022083\n",
      "epoch: 56 MSE: 0.0007221318797764172\n",
      "epoch: 57 MSE: 0.0007171589625142589\n",
      "epoch: 58 MSE: 0.0007124029685775191\n",
      "epoch: 59 MSE: 0.0007078532888892159\n",
      "epoch: 60 MSE: 0.000703499811967154\n",
      "epoch: 61 MSE: 0.0006993329055026585\n",
      "epoch: 62 MSE: 0.0006953433979839405\n",
      "epoch: 63 MSE: 0.0006915225604525495\n",
      "epoch: 64 MSE: 0.0006878620884708082\n",
      "epoch: 65 MSE: 0.0006843540843678585\n",
      "epoch: 66 MSE: 0.0006809910398222832\n",
      "epoch: 67 MSE: 0.0006777658188301933\n",
      "epoch: 68 MSE: 0.0006746716410992656\n",
      "epoch: 69 MSE: 0.0006717020659015472\n",
      "epoch: 70 MSE: 0.0006688509764108112\n",
      "epoch: 71 MSE: 0.0006661125645439323\n",
      "epoch: 72 MSE: 0.0006634813163201446\n",
      "epoch: 73 MSE: 0.0006609519977470032\n",
      "epoch: 74 MSE: 0.0006585196412374925\n",
      "epoch: 75 MSE: 0.0006561795325588829\n",
      "epoch: 76 MSE: 0.000653927198310619\n",
      "epoch: 77 MSE: 0.0006517583939257065\n",
      "epoch: 78 MSE: 0.0006496690921876588\n",
      "epoch: 79 MSE: 0.0006476554722530361\n",
      "epoch: 80 MSE: 0.0006457139091680434\n",
      "epoch: 81 MSE: 0.0006438409638662301\n",
      "epoch: 82 MSE: 0.0006420333736333592\n",
      "epoch: 83 MSE: 0.0006402880430247008\n",
      "epoch: 84 MSE: 0.0006386020352194062\n",
      "epoch: 85 MSE: 0.0006369725637962683\n",
      "epoch: 86 MSE: 0.0006353969849149196\n",
      "epoch: 87 MSE: 0.0006338727898864482\n",
      "epoch: 88 MSE: 0.000632397598117462\n",
      "epoch: 89 MSE: 0.0006309691504117497\n",
      "epoch: 90 MSE: 0.0006295853026139455\n",
      "epoch: 91 MSE: 0.000628244019579821\n",
      "epoch: 92 MSE: 0.0006269433694583084\n",
      "epoch: 93 MSE: 0.000625681518270605\n",
      "epoch: 94 MSE: 0.0006244567247722634\n",
      "epoch: 95 MSE: 0.0006232673355845508\n",
      "epoch: 96 MSE: 0.0006221117805818588\n",
      "epoch: 97 MSE: 0.0006209885685224743\n",
      "epoch: 98 MSE: 0.0006198962829104268\n",
      "epoch: 99 MSE: 0.0006188335780767097\n"
     ]
    }
   ],
   "source": [
    "length = len(x)\n",
    "# The train set contains approximately 95% of the samples.\n",
    "learn_end_point = int(length * 0.95)\n",
    "\n",
    "fit1.set_learn_range(0, learn_end_point)\n",
    "fit1.set_test_range(learn_end_point + 1, length - 1)\n",
    "fit1.learn(epochs=100, show_epoch_results=True, random_testing=False)"
   ]
  },
  {
   "cell_type": "code",
   "execution_count": 11,
   "metadata": {},
   "outputs": [
    {
     "data": {
      "text/plain": [
       "Text(0.5, 1.0, 'Mean Squared Error by Epoch')"
      ]
     },
     "execution_count": 11,
     "metadata": {},
     "output_type": "execute_result"
    },
    {
     "data": {
      "image/png": "[encoded data removed]",
      "text/plain": [
       "<Figure size 432x288 with 1 Axes>"
      ]
     },
     "metadata": {
      "needs_background": "light"
     },
     "output_type": "display_data"
    }
   ],
   "source": [
    "plt.plot(range(1, len(fit1.accum_mse) + 1, 1), fit1.accum_mse)\n",
    "plt.xlabel('epochs')\n",
    "plt.ylabel('mean squared error')\n",
    "plt.grid(True)\n",
    "plt.title(\"Mean Squared Error by Epoch\")"
   ]
  },
  {
   "cell_type": "code",
   "execution_count": 12,
   "metadata": {},
   "outputs": [
    {
     "name": "stdout",
     "output_type": "stream",
     "text": [
      "test set MSE =  0.000118\n"
     ]
    }
   ],
   "source": [
    "# test set performance is obtained using the test() function:\n",
    "mse = fit1.test()\n",
    "print( \"test set MSE = \", np.round(mse, 6))"
   ]
  },
  {
   "cell_type": "code",
   "execution_count": 13,
   "metadata": {},
   "outputs": [
    {
     "data": {
      "text/plain": [
       "<matplotlib.legend.Legend at 0x14f4bc54898>"
      ]
     },
     "execution_count": 13,
     "metadata": {},
     "output_type": "execute_result"
    },
    {
     "data": {
      "image/png": "[encoded data removed]",
      "text/plain": [
       "<Figure size 432x288 with 1 Axes>"
      ]
     },
     "metadata": {
      "needs_background": "light"
     },
     "output_type": "display_data"
    }
   ],
   "source": [
    "x_values = np.arange(12)\n",
    "all_targets1 = [item[0][0] for item in fit1.test_targets_activations]\n",
    "allactuals = [item[1][0] for item in fit1.test_targets_activations]\n",
    "\n",
    "plt.plot(x_values, all_targets1, 'g-', linewidth=2, markersize=12)\n",
    "plt.plot(x_values,allactuals, 'r-', linewidth=2, markersize=12)\n",
    "plt.xlabel('Prediction Period')\n",
    "plt.ylabel('Singaporean dollars($)')\n",
    "plt.legend(('Original', 'Predicted'),loc='upper right')"
   ]
  },
  {
   "cell_type": "markdown",
   "metadata": {},
   "source": [
    "## Additional Resources\n",
    "\n",
    "- Book : https://www.intechopen.com/books/recurrent_neural_networks\n",
    "\n",
    "- Sundaram, N. Mohana, S. N. Sivanandam, and R. Subha.\n",
    "\"Elman Neural Network Mortality Predictor for Prediction\n",
    "of Mortality Due to Pollution.\" International Journal\n",
    "of Applied Engineering Research 11.3 (2016): 1835-1840.\n",
    "- Wysocki, Antoni, and Maciej Ławrynczuk. \"Elman neural\n",
    "network for modeling and predictive control of delayed\n",
    "dynamic systems.\" Archives of Control Sciences 26.1\n",
    "(2016): 117-142.\n",
    "- Tan, Chao, et al. \"A pressure control method for emulsion\n",
    "pump station based on elman neural network.\" Computational\n",
    "intelligence and neuroscience 2015 (2015): 29.\n",
    "- Liu, Hongmei, Jing Wang, and Chen Lu. \"Rolling bearing\n",
    "fault detection based on the teager energy operator\n",
    "and elman neural network.\" Mathematical problems in\n",
    "engineering 2013 (2013).\n",
    "94"
   ]
  },
  {
   "cell_type": "code",
   "execution_count": null,
   "metadata": {},
   "outputs": [],
   "source": []
  },
  {
   "cell_type": "code",
   "execution_count": null,
   "metadata": {},
   "outputs": [],
   "source": []
  },
  {
   "cell_type": "code",
   "execution_count": null,
   "metadata": {},
   "outputs": [],
   "source": []
  },
  {
   "cell_type": "code",
   "execution_count": null,
   "metadata": {},
   "outputs": [],
   "source": []
  },
  {
   "cell_type": "code",
   "execution_count": null,
   "metadata": {},
   "outputs": [],
   "source": []
  },
  {
   "cell_type": "code",
   "execution_count": null,
   "metadata": {},
   "outputs": [],
   "source": []
  },
  {
   "cell_type": "code",
   "execution_count": null,
   "metadata": {},
   "outputs": [],
   "source": []
  },
  {
   "cell_type": "code",
   "execution_count": null,
   "metadata": {},
   "outputs": [],
   "source": []
  },
  {
   "cell_type": "code",
   "execution_count": null,
   "metadata": {},
   "outputs": [],
   "source": []
  },
  {
   "cell_type": "code",
   "execution_count": null,
   "metadata": {},
   "outputs": [],
   "source": []
  },
  {
   "cell_type": "code",
   "execution_count": null,
   "metadata": {},
   "outputs": [],
   "source": []
  },
  {
   "cell_type": "code",
   "execution_count": null,
   "metadata": {},
   "outputs": [],
   "source": []
  },
  {
   "cell_type": "code",
   "execution_count": null,
   "metadata": {},
   "outputs": [],
   "source": []
  },
  {
   "cell_type": "code",
   "execution_count": null,
   "metadata": {},
   "outputs": [],
   "source": []
  },
  {
   "cell_type": "code",
   "execution_count": null,
   "metadata": {},
   "outputs": [],
   "source": []
  },
  {
   "cell_type": "code",
   "execution_count": null,
   "metadata": {},
   "outputs": [],
   "source": []
  },
  {
   "cell_type": "code",
   "execution_count": null,
   "metadata": {},
   "outputs": [],
   "source": []
  },
  {
   "cell_type": "code",
   "execution_count": null,
   "metadata": {},
   "outputs": [],
   "source": []
  },
  {
   "cell_type": "code",
   "execution_count": null,
   "metadata": {},
   "outputs": [],
   "source": []
  },
  {
   "cell_type": "code",
   "execution_count": null,
   "metadata": {},
   "outputs": [],
   "source": []
  },
  {
   "cell_type": "code",
   "execution_count": null,
   "metadata": {},
   "outputs": [],
   "source": []
  },
  {
   "cell_type": "code",
   "execution_count": null,
   "metadata": {},
   "outputs": [],
   "source": []
  },
  {
   "cell_type": "code",
   "execution_count": null,
   "metadata": {},
   "outputs": [],
   "source": []
  },
  {
   "cell_type": "code",
   "execution_count": null,
   "metadata": {},
   "outputs": [],
   "source": []
  },
  {
   "cell_type": "code",
   "execution_count": null,
   "metadata": {},
   "outputs": [],
   "source": []
  },
  {
   "cell_type": "code",
   "execution_count": null,
   "metadata": {},
   "outputs": [],
   "source": []
  },
  {
   "cell_type": "code",
   "execution_count": null,
   "metadata": {},
   "outputs": [],
   "source": []
  },
  {
   "cell_type": "code",
   "execution_count": null,
   "metadata": {},
   "outputs": [],
   "source": []
  },
  {
   "cell_type": "code",
   "execution_count": null,
   "metadata": {},
   "outputs": [],
   "source": []
  },
  {
   "cell_type": "code",
   "execution_count": null,
   "metadata": {},
   "outputs": [],
   "source": []
  },
  {
   "cell_type": "code",
   "execution_count": null,
   "metadata": {},
   "outputs": [],
   "source": []
  },
  {
   "cell_type": "code",
   "execution_count": null,
   "metadata": {},
   "outputs": [],
   "source": []
  }
 ],
 "metadata": {
  "kernelspec": {
   "display_name": "Python 3",
   "language": "python",
   "name": "python3"
  },
  "language_info": {
   "codemirror_mode": {
    "name": "ipython",
    "version": 3
   },
   "file_extension": ".py",
   "mimetype": "text/x-python",
   "name": "python",
   "nbconvert_exporter": "python",
   "pygments_lexer": "ipython3",
   "version": "3.6.8"
  }
 },
 "nbformat": 4,
 "nbformat_minor": 4
}
