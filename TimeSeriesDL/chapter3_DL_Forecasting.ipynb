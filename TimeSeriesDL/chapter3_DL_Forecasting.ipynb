{
 "cells": [
  {
   "cell_type": "markdown",
   "metadata": {},
   "source": [
    "## Resources\n",
    "\n",
    "This notebook is based on book\n",
    "\n",
    "#### DEEP TIME SERIES FORECASTING With PYTHON: An Intuitive Introduction to Deep Learning for Applied Time Series Modeling\n",
    "\n",
    "\n"
   ]
  },
  {
   "cell_type": "code",
   "execution_count": 1,
   "metadata": {},
   "outputs": [],
   "source": [
    "# We need to run the command: pip install xlrd\n",
    "import numpy as np\n",
    "import pandas as pd\n",
    "\n",
    "import matplotlib.pyplot as plt\n",
    "import seaborn as sns"
   ]
  },
  {
   "cell_type": "code",
   "execution_count": 37,
   "metadata": {},
   "outputs": [],
   "source": [
    "excel_file =  pd.ExcelFile(\"COE.xls\")"
   ]
  },
  {
   "cell_type": "code",
   "execution_count": 9,
   "metadata": {},
   "outputs": [
    {
     "name": "stdout",
     "output_type": "stream",
     "text": [
      "['COE data']\n"
     ]
    }
   ],
   "source": [
    "print(excel_file.sheet_names)"
   ]
  },
  {
   "cell_type": "code",
   "execution_count": 38,
   "metadata": {},
   "outputs": [],
   "source": [
    "# Load the data into a DataFrame\n",
    "spreadsheet = excel_file.parse('COE data')"
   ]
  },
  {
   "cell_type": "code",
   "execution_count": 11,
   "metadata": {},
   "outputs": [
    {
     "name": "stdout",
     "output_type": "stream",
     "text": [
      "<class 'pandas.core.frame.DataFrame'>\n",
      "RangeIndex: 265 entries, 0 to 264\n",
      "Data columns (total 6 columns):\n",
      " #   Column  Non-Null Count  Dtype         \n",
      "---  ------  --------------  -----         \n",
      " 0   DATE    265 non-null    datetime64[ns]\n",
      " 1   COE$    265 non-null    float64       \n",
      " 2   COE$_1  265 non-null    float64       \n",
      " 3   #Bids   265 non-null    int64         \n",
      " 4   Quota   265 non-null    int64         \n",
      " 5   Open?   265 non-null    int64         \n",
      "dtypes: datetime64[ns](1), float64(2), int64(3)\n",
      "memory usage: 12.5 KB\n",
      "None\n"
     ]
    }
   ],
   "source": [
    "print(spreadsheet.info())"
   ]
  },
  {
   "cell_type": "markdown",
   "metadata": {},
   "source": [
    "We see the spreadsheet contains six columns with 265 rows\n",
    "(entries). \n",
    "- DATE: contains the date of the COE auction, and\n",
    "the remaining columns the other five variables.\n",
    "- COE$:  contains the Certificate of Entitlement historical price. We will use it as our target variable and store\n",
    "it in an object called data:"
   ]
  },
  {
   "cell_type": "markdown",
   "metadata": {},
   "source": [
    "It appears that the first COE price (back in August 1990) was\n",
    " 7,400 (row 0), and the second price considerably higher at\n",
    "11,100. The individuals who brought at this price got a rough\n",
    "deal, because the price dropped to around 5,000 and then less\n",
    "than 3,200 over the next few months. I’d be “kicking myself”\n",
    "if I’d paid 11,000 for something that trades at more than a\n",
    "50% discount a month later. My guess is those who brought at\n",
    "11,000 were probably too rich to care!"
   ]
  },
  {
   "cell_type": "code",
   "execution_count": 39,
   "metadata": {},
   "outputs": [
    {
     "data": {
      "text/html": [
       "<div>\n",
       "<style scoped>\n",
       "    .dataframe tbody tr th:only-of-type {\n",
       "        vertical-align: middle;\n",
       "    }\n",
       "\n",
       "    .dataframe tbody tr th {\n",
       "        vertical-align: top;\n",
       "    }\n",
       "\n",
       "    .dataframe thead th {\n",
       "        text-align: right;\n",
       "    }\n",
       "</style>\n",
       "<table border=\"1\" class=\"dataframe\">\n",
       "  <thead>\n",
       "    <tr style=\"text-align: right;\">\n",
       "      <th></th>\n",
       "      <th>DATE</th>\n",
       "      <th>COE$</th>\n",
       "    </tr>\n",
       "  </thead>\n",
       "  <tbody>\n",
       "    <tr>\n",
       "      <th>0</th>\n",
       "      <td>1990-08-01</td>\n",
       "      <td>7400.0</td>\n",
       "    </tr>\n",
       "    <tr>\n",
       "      <th>1</th>\n",
       "      <td>1990-09-01</td>\n",
       "      <td>11100.0</td>\n",
       "    </tr>\n",
       "    <tr>\n",
       "      <th>2</th>\n",
       "      <td>1990-10-01</td>\n",
       "      <td>5002.0</td>\n",
       "    </tr>\n",
       "    <tr>\n",
       "      <th>3</th>\n",
       "      <td>1990-11-01</td>\n",
       "      <td>3170.0</td>\n",
       "    </tr>\n",
       "    <tr>\n",
       "      <th>4</th>\n",
       "      <td>1990-12-01</td>\n",
       "      <td>3410.0</td>\n",
       "    </tr>\n",
       "  </tbody>\n",
       "</table>\n",
       "</div>"
      ],
      "text/plain": [
       "        DATE     COE$\n",
       "0 1990-08-01   7400.0\n",
       "1 1990-09-01  11100.0\n",
       "2 1990-10-01   5002.0\n",
       "3 1990-11-01   3170.0\n",
       "4 1990-12-01   3410.0"
      ]
     },
     "execution_count": 39,
     "metadata": {},
     "output_type": "execute_result"
    }
   ],
   "source": [
    "spreadsheet[['DATE','COE$']].head()"
   ]
  },
  {
   "cell_type": "markdown",
   "metadata": {},
   "source": [
    "Did you notice the error for 15th February, 15th April and 15th\n",
    "June? All are reported as the year 2002; they should say 2004.\n",
    "This quite is a common type of coding error."
   ]
  },
  {
   "cell_type": "code",
   "execution_count": 40,
   "metadata": {},
   "outputs": [
    {
     "data": {
      "text/plain": [
       "193   2004-02-01\n",
       "194   2002-02-15\n",
       "195   2004-03-01\n",
       "196   2004-03-15\n",
       "197   2004-04-01\n",
       "198   2002-04-15\n",
       "199   2004-05-01\n",
       "200   2004-05-15\n",
       "201   2004-06-01\n",
       "202   2002-06-15\n",
       "203   2004-07-01\n",
       "Name: DATE, dtype: datetime64[ns]"
      ]
     },
     "execution_count": 40,
     "metadata": {},
     "output_type": "execute_result"
    }
   ],
   "source": [
    "spreadsheet['DATE'][193:204]"
   ]
  },
  {
   "cell_type": "markdown",
   "metadata": {},
   "source": [
    "Let’s correct it"
   ]
  },
  {
   "cell_type": "code",
   "execution_count": 41,
   "metadata": {},
   "outputs": [],
   "source": [
    "spreadsheet.iloc[194,0] = '2004-02-15 00:00:00'\n",
    "spreadsheet.iloc[198,0] = '2004-04-15 00:00:00'\n",
    "spreadsheet.iloc[202,0] = '2004-06-15 00:00:00'"
   ]
  },
  {
   "cell_type": "code",
   "execution_count": 42,
   "metadata": {},
   "outputs": [
    {
     "data": {
      "text/plain": [
       "193    2004-02-01 00:00:00\n",
       "194    2004-02-15 00:00:00\n",
       "195    2004-03-01 00:00:00\n",
       "196    2004-03-15 00:00:00\n",
       "197    2004-04-01 00:00:00\n",
       "198    2004-04-15 00:00:00\n",
       "199    2004-05-01 00:00:00\n",
       "200    2004-05-15 00:00:00\n",
       "201    2004-06-01 00:00:00\n",
       "202    2004-06-15 00:00:00\n",
       "203    2004-07-01 00:00:00\n",
       "Name: DATE, dtype: object"
      ]
     },
     "execution_count": 42,
     "metadata": {},
     "output_type": "execute_result"
    }
   ],
   "source": [
    "spreadsheet['DATE'][193:204]"
   ]
  },
  {
   "cell_type": "markdown",
   "metadata": {},
   "source": [
    "- Saving data"
   ]
  },
  {
   "cell_type": "code",
   "execution_count": 46,
   "metadata": {},
   "outputs": [],
   "source": [
    "loc = \"COE.csv\"\n",
    "spreadsheet.to_csv(loc)"
   ]
  },
  {
   "cell_type": "markdown",
   "metadata": {},
   "source": [
    "The task of the neuron is to perform a weighted sum of input\n",
    "signals and apply an activation function before passing the output\n",
    "to the next layer. \n",
    "\n",
    "The hidden layer neurons perform\n",
    "the summation on the information passed to them from the input layer neurons; and the output layer neurons perform\n",
    "the summation on the weighted information passed to them\n",
    "from the hidden layer neurons.\n",
    "\n",
    "\n",
    "The **sigmoid function** takes a real-valued number and\n",
    "“squashes” it into a range between 0 and 1.\n",
    "\n",
    "\\begin{equation*}\n",
    "f(u) \\frac{1}{1+e^{-c u }}\n",
    "\\end{equation*}\n",
    "\n",
    "It gained popularity partly because the output of the function\n",
    "can be interpreted as the probability of the artificial neuron\n",
    "“firing”.\n",
    "\n",
    "The derivative is used to\n",
    "learn the weight vectors via an algorithm known as **stochastic gradient descent**."
   ]
  },
  {
   "cell_type": "markdown",
   "metadata": {},
   "source": [
    "- Rescale the Input Data\n",
    "\n",
    "Deep neural networks are sensitive to the scale of the input\n",
    "data. It is good practice to\n",
    "re-scale the data to the range -1 to +1 or 0 to 1. This can be\n",
    "achieved via the MinMaxScaler method in the sklearn module:"
   ]
  },
  {
   "cell_type": "code",
   "execution_count": 60,
   "metadata": {},
   "outputs": [],
   "source": [
    "data = spreadsheet['COE$']\n",
    "x = data"
   ]
  },
  {
   "cell_type": "code",
   "execution_count": 63,
   "metadata": {},
   "outputs": [
    {
     "data": {
      "text/plain": [
       "0     7400.0\n",
       "1    11100.0\n",
       "2     5002.0\n",
       "3     3170.0\n",
       "4     3410.0\n",
       "Name: COE$, dtype: float64"
      ]
     },
     "execution_count": 63,
     "metadata": {},
     "output_type": "execute_result"
    }
   ],
   "source": [
    "x.head()"
   ]
  },
  {
   "cell_type": "code",
   "execution_count": 64,
   "metadata": {},
   "outputs": [
    {
     "name": "stdout",
     "output_type": "stream",
     "text": [
      "MinMaxScaler(copy=True, feature_range=(0, 1))\n"
     ]
    }
   ],
   "source": [
    "from sklearn import preprocessing\n",
    "scaler = preprocessing.MinMaxScaler(feature_range=(0, 1))\n",
    "print(scaler)"
   ]
  },
  {
   "cell_type": "markdown",
   "metadata": {},
   "source": [
    "This informs us that scaler will scale the data into the 0,1\n",
    "range. \n",
    "\n",
    "Note that copy=True is the default setting. \n",
    "\n",
    "If the input is already a numpy array you can set it to False to perform in\n",
    "place row normalization and avoid a copy. However, we set it\n",
    "to True because x (and data) are Pandas Series:"
   ]
  },
  {
   "cell_type": "code",
   "execution_count": 55,
   "metadata": {},
   "outputs": [
    {
     "data": {
      "text/plain": [
       "pandas.core.series.Series"
      ]
     },
     "execution_count": 55,
     "metadata": {},
     "output_type": "execute_result"
    }
   ],
   "source": [
    "type(x)"
   ]
  },
  {
   "cell_type": "markdown",
   "metadata": {},
   "source": [
    "- Transform *x* to a numpy array (format accepted by the deep NN model)"
   ]
  },
  {
   "cell_type": "code",
   "execution_count": 65,
   "metadata": {},
   "outputs": [],
   "source": [
    "x  = np.array(x).reshape((len(x),))"
   ]
  },
  {
   "cell_type": "code",
   "execution_count": 70,
   "metadata": {},
   "outputs": [
    {
     "data": {
      "text/plain": [
       "(265,)"
      ]
     },
     "execution_count": 70,
     "metadata": {},
     "output_type": "execute_result"
    }
   ],
   "source": [
    "x.shape"
   ]
  },
  {
   "cell_type": "markdown",
   "metadata": {},
   "source": [
    "- Normalize data applying Log Transformation"
   ]
  },
  {
   "cell_type": "code",
   "execution_count": 68,
   "metadata": {},
   "outputs": [],
   "source": [
    "x = np.log(x)"
   ]
  },
  {
   "cell_type": "markdown",
   "metadata": {},
   "source": [
    "- Rescale using *fit_transform*: It requires a 2D array. But our *x* array is 1D array.  We need to reshape again"
   ]
  },
  {
   "cell_type": "code",
   "execution_count": 72,
   "metadata": {},
   "outputs": [
    {
     "data": {
      "text/plain": [
       "(265, 1)"
      ]
     },
     "execution_count": 72,
     "metadata": {},
     "output_type": "execute_result"
    }
   ],
   "source": [
    "x = x.reshape(-1,1)\n",
    "x.shape"
   ]
  },
  {
   "cell_type": "code",
   "execution_count": 74,
   "metadata": {},
   "outputs": [],
   "source": [
    "x = scaler.fit_transform(x)"
   ]
  },
  {
   "cell_type": "markdown",
   "metadata": {},
   "source": [
    "- After reshape we need to transform our 2D arrya to back 1D array for incorporate it in our NN model"
   ]
  },
  {
   "cell_type": "code",
   "execution_count": 75,
   "metadata": {},
   "outputs": [],
   "source": [
    "x = x.reshape(-1)\n",
    "x.shape"
   ]
  },
  {
   "cell_type": "code",
   "execution_count": 76,
   "metadata": {},
   "outputs": [
    {
     "name": "stdout",
     "output_type": "stream",
     "text": [
      "0.0\n",
      "1.0\n"
     ]
    }
   ],
   "source": [
    "# Check the data are sclaed appropriately\n",
    "print(round(x.min(),2))\n",
    "print(round(x.max(),2))"
   ]
  },
  {
   "cell_type": "markdown",
   "metadata": {},
   "source": [
    "## Stats Models: Partial Autocorrelation Function\n",
    "\n",
    "#### We need to determine how many past observations to include in our model. \n",
    "\n",
    "A simple way to do this is to use partial autocorrelations. The\n",
    "partial autocorrelation function (PACF) measures directly how\n",
    "an observation is correlated with an observation n time steps\n",
    "apart.\n",
    "\n",
    "For\n",
    "example, if $x_t$ is a time-series observation measured at time t,\n",
    "then the partial correlation between $x_t$ and $x_{t−3}$ is the amount\n",
    "of correlation between $x_t$ and $x_{t−3}$ that is not explained by their\n",
    "common correlations with $x_{t−1}$ and $x_{t−2}$."
   ]
  },
  {
   "cell_type": "code",
   "execution_count": 81,
   "metadata": {},
   "outputs": [],
   "source": [
    "from statsmodels.tsa.stattools import pacf\n",
    "x_pacf = pacf(x, nlags = 5, method = 'ols')"
   ]
  },
  {
   "cell_type": "markdown",
   "metadata": {},
   "source": [
    "The object x_pacf contains the actual partial autocorrelations.\n",
    "\n",
    "Just like regular correlations they range between -1\n",
    "to +1.\n",
    "\n",
    "Where +1 indicates a strong positive association, -1 indicates a strong negative association, and 0 signifies no association.\n",
    "\n",
    "The first value is 1 because it represents the correlation of x_t\n",
    "with itself. The second partial correlation takes the value of\n",
    "approximately 0.96, and indicates that xt and xt−1 are highly\n",
    "correlated. This might be expected, as it is reasonable to assume\n",
    "there is some relationship between today’s COE price and\n",
    "the price yesterday. However, the third partial autocorrelation\n",
    "is moderately negative, and the remaining values are rather\n",
    "small."
   ]
  },
  {
   "cell_type": "code",
   "execution_count": 83,
   "metadata": {},
   "outputs": [
    {
     "data": {
      "text/plain": [
       "array([ 1.        ,  0.95969034, -0.27093837,  0.22144024, -0.04729577,\n",
       "        0.07360662])"
      ]
     },
     "execution_count": 83,
     "metadata": {},
     "output_type": "execute_result"
    }
   ],
   "source": [
    "x_pacf"
   ]
  },
  {
   "cell_type": "code",
   "execution_count": 85,
   "metadata": {},
   "outputs": [],
   "source": [
    "x_pacf = pacf(x, nlags = 40, method = 'ols')\n",
    "x_values = np.arange(len(x_pacf))"
   ]
  },
  {
   "cell_type": "markdown",
   "metadata": {},
   "source": [
    "Figure 3.4 plots the partial autocorrelations for 40 lags\n",
    "alongside an approximate 95% statistical confidence interval\n",
    "(dotted gray line). It appears observations past one time lag\n",
    "have little association with the current COE price."
   ]
  },
  {
   "cell_type": "code",
   "execution_count": 99,
   "metadata": {},
   "outputs": [
    {
     "data": {
      "text/plain": [
       "[<matplotlib.lines.Line2D at 0x206021b4908>]"
      ]
     },
     "execution_count": 99,
     "metadata": {},
     "output_type": "execute_result"
    },
    {
     "data": {
      "image/png": "[encoded data removed]",
      "text/plain": [
       "<Figure size 432x288 with 1 Axes>"
      ]
     },
     "metadata": {
      "needs_background": "light"
     },
     "output_type": "display_data"
    }
   ],
   "source": [
    "plt.plot(x_values, x_pacf, 'g--', linewidth=2, markersize=12)"
   ]
  },
  {
   "cell_type": "markdown",
   "metadata": {},
   "source": [
    "The **Tanh activation function** $f(u) = tanh(u)$is a popular alternative to the\n",
    "sigmoid function and produces output in the range −1 to +1. It is sometimes more effective for **modeling\n",
    "complex nonlinear relations.**\n",
    "\n",
    "The Tanh is symmetric around zero - only zero-valued inputs are\n",
    "mapped to near-zero outputs. In addition, strongly negative\n",
    "inputs will map to negative outputs. These properties make\n",
    "the network less likely to get “stuck” during training."
   ]
  },
  {
   "cell_type": "markdown",
   "metadata": {},
   "source": [
    "## Neural network Architecture for Time Series Forecasting (nnet-ts)\n",
    "\n",
    "The model predicts next months COE price given this months COE price. This is called a **one step ahead** forecast."
   ]
  },
  {
   "cell_type": "code",
   "execution_count": 108,
   "metadata": {},
   "outputs": [],
   "source": [
    "# if you have any probelms with this package go to the folder where the package is installed and open the file\n",
    "# __init__.py and modify the line \n",
    "# and modify the similiar line to from .TimeSeriesNnet import TimeSeriesNnet\n",
    "from nnet_ts import *"
   ]
  },
  {
   "cell_type": "code",
   "execution_count": null,
   "metadata": {
    "collapsed": true
   },
   "outputs": [],
   "source": [
    "count = 0 \n",
    "ahead =12 # Since 12 one step ahead forecasts are to be calculated,\n",
    "pred = [] # will store each of the 12 one step ahead predictions."
   ]
  },
  {
   "cell_type": "code",
   "execution_count": 120,
   "metadata": {},
   "outputs": [
    {
     "name": "stdout",
     "output_type": "stream",
     "text": [
      "253\n"
     ]
    },
    {
     "name": "stderr",
     "output_type": "stream",
     "text": [
      "c:\\users\\ctw00071\\appdata\\local\\continuum\\miniconda3\\envs\\neuralnets\\lib\\site-packages\\nnet_ts\\TimeSeriesNnet.py:29: RuntimeWarning: divide by zero encountered in log\n",
      "  self.y = np.log(self.timeseries[self.lag:])\n",
      "c:\\users\\ctw00071\\appdata\\local\\continuum\\miniconda3\\envs\\neuralnets\\lib\\site-packages\\nnet_ts\\TimeSeriesNnet.py:60: UserWarning: The `nb_epoch` argument in `fit` has been renamed `epochs`.\n",
      "  self.nn.fit(self.X, self.y, nb_epoch = self.epochs, verbose = self.verbose)\n"
     ]
    },
    {
     "name": "stdout",
     "output_type": "stream",
     "text": [
      "Obs:  1  x=  0.4303  prediction =  0    0.5177\n",
      "dtype: float64\n",
      "254\n"
     ]
    },
    {
     "name": "stderr",
     "output_type": "stream",
     "text": [
      "c:\\users\\ctw00071\\appdata\\local\\continuum\\miniconda3\\envs\\neuralnets\\lib\\site-packages\\nnet_ts\\TimeSeriesNnet.py:29: RuntimeWarning: divide by zero encountered in log\n",
      "  self.y = np.log(self.timeseries[self.lag:])\n",
      "c:\\users\\ctw00071\\appdata\\local\\continuum\\miniconda3\\envs\\neuralnets\\lib\\site-packages\\nnet_ts\\TimeSeriesNnet.py:60: UserWarning: The `nb_epoch` argument in `fit` has been renamed `epochs`.\n",
      "  self.nn.fit(self.X, self.y, nb_epoch = self.epochs, verbose = self.verbose)\n"
     ]
    },
    {
     "name": "stdout",
     "output_type": "stream",
     "text": [
      "Obs:  2  x=  0.5174  prediction =  0    0.524\n",
      "dtype: float64\n",
      "255\n"
     ]
    },
    {
     "name": "stderr",
     "output_type": "stream",
     "text": [
      "c:\\users\\ctw00071\\appdata\\local\\continuum\\miniconda3\\envs\\neuralnets\\lib\\site-packages\\nnet_ts\\TimeSeriesNnet.py:29: RuntimeWarning: divide by zero encountered in log\n",
      "  self.y = np.log(self.timeseries[self.lag:])\n",
      "c:\\users\\ctw00071\\appdata\\local\\continuum\\miniconda3\\envs\\neuralnets\\lib\\site-packages\\nnet_ts\\TimeSeriesNnet.py:60: UserWarning: The `nb_epoch` argument in `fit` has been renamed `epochs`.\n",
      "  self.nn.fit(self.X, self.y, nb_epoch = self.epochs, verbose = self.verbose)\n"
     ]
    },
    {
     "name": "stdout",
     "output_type": "stream",
     "text": [
      "Obs:  3  x=  0.3462  prediction =  0    0.5391\n",
      "dtype: float64\n",
      "256\n"
     ]
    },
    {
     "name": "stderr",
     "output_type": "stream",
     "text": [
      "c:\\users\\ctw00071\\appdata\\local\\continuum\\miniconda3\\envs\\neuralnets\\lib\\site-packages\\nnet_ts\\TimeSeriesNnet.py:29: RuntimeWarning: divide by zero encountered in log\n",
      "  self.y = np.log(self.timeseries[self.lag:])\n",
      "c:\\users\\ctw00071\\appdata\\local\\continuum\\miniconda3\\envs\\neuralnets\\lib\\site-packages\\nnet_ts\\TimeSeriesNnet.py:60: UserWarning: The `nb_epoch` argument in `fit` has been renamed `epochs`.\n",
      "  self.nn.fit(self.X, self.y, nb_epoch = self.epochs, verbose = self.verbose)\n"
     ]
    },
    {
     "name": "stdout",
     "output_type": "stream",
     "text": [
      "Obs:  4  x=  0.2482  prediction =  0    0.5604\n",
      "dtype: float64\n",
      "257\n"
     ]
    },
    {
     "name": "stderr",
     "output_type": "stream",
     "text": [
      "c:\\users\\ctw00071\\appdata\\local\\continuum\\miniconda3\\envs\\neuralnets\\lib\\site-packages\\nnet_ts\\TimeSeriesNnet.py:29: RuntimeWarning: divide by zero encountered in log\n",
      "  self.y = np.log(self.timeseries[self.lag:])\n",
      "c:\\users\\ctw00071\\appdata\\local\\continuum\\miniconda3\\envs\\neuralnets\\lib\\site-packages\\nnet_ts\\TimeSeriesNnet.py:60: UserWarning: The `nb_epoch` argument in `fit` has been renamed `epochs`.\n",
      "  self.nn.fit(self.X, self.y, nb_epoch = self.epochs, verbose = self.verbose)\n"
     ]
    },
    {
     "name": "stdout",
     "output_type": "stream",
     "text": [
      "Obs:  5  x=  0.2639  prediction =  0    0.5803\n",
      "dtype: float64\n",
      "258\n"
     ]
    },
    {
     "name": "stderr",
     "output_type": "stream",
     "text": [
      "c:\\users\\ctw00071\\appdata\\local\\continuum\\miniconda3\\envs\\neuralnets\\lib\\site-packages\\nnet_ts\\TimeSeriesNnet.py:29: RuntimeWarning: divide by zero encountered in log\n",
      "  self.y = np.log(self.timeseries[self.lag:])\n",
      "c:\\users\\ctw00071\\appdata\\local\\continuum\\miniconda3\\envs\\neuralnets\\lib\\site-packages\\nnet_ts\\TimeSeriesNnet.py:60: UserWarning: The `nb_epoch` argument in `fit` has been renamed `epochs`.\n",
      "  self.nn.fit(self.X, self.y, nb_epoch = self.epochs, verbose = self.verbose)\n"
     ]
    },
    {
     "name": "stdout",
     "output_type": "stream",
     "text": [
      "Obs:  6  x=  0.1979  prediction =  0    0.5626\n",
      "dtype: float64\n",
      "259\n"
     ]
    },
    {
     "name": "stderr",
     "output_type": "stream",
     "text": [
      "c:\\users\\ctw00071\\appdata\\local\\continuum\\miniconda3\\envs\\neuralnets\\lib\\site-packages\\nnet_ts\\TimeSeriesNnet.py:29: RuntimeWarning: divide by zero encountered in log\n",
      "  self.y = np.log(self.timeseries[self.lag:])\n",
      "c:\\users\\ctw00071\\appdata\\local\\continuum\\miniconda3\\envs\\neuralnets\\lib\\site-packages\\nnet_ts\\TimeSeriesNnet.py:60: UserWarning: The `nb_epoch` argument in `fit` has been renamed `epochs`.\n",
      "  self.nn.fit(self.X, self.y, nb_epoch = self.epochs, verbose = self.verbose)\n"
     ]
    },
    {
     "name": "stdout",
     "output_type": "stream",
     "text": [
      "Obs:  7  x=  0.0  prediction =  0    0.5438\n",
      "dtype: float64\n",
      "260\n"
     ]
    },
    {
     "name": "stderr",
     "output_type": "stream",
     "text": [
      "c:\\users\\ctw00071\\appdata\\local\\continuum\\miniconda3\\envs\\neuralnets\\lib\\site-packages\\nnet_ts\\TimeSeriesNnet.py:29: RuntimeWarning: divide by zero encountered in log\n",
      "  self.y = np.log(self.timeseries[self.lag:])\n",
      "c:\\users\\ctw00071\\appdata\\local\\continuum\\miniconda3\\envs\\neuralnets\\lib\\site-packages\\nnet_ts\\TimeSeriesNnet.py:60: UserWarning: The `nb_epoch` argument in `fit` has been renamed `epochs`.\n",
      "  self.nn.fit(self.X, self.y, nb_epoch = self.epochs, verbose = self.verbose)\n"
     ]
    },
    {
     "name": "stdout",
     "output_type": "stream",
     "text": [
      "Obs:  8  x=  0.1064  prediction =  0    0.5458\n",
      "dtype: float64\n",
      "261\n"
     ]
    },
    {
     "name": "stderr",
     "output_type": "stream",
     "text": [
      "c:\\users\\ctw00071\\appdata\\local\\continuum\\miniconda3\\envs\\neuralnets\\lib\\site-packages\\nnet_ts\\TimeSeriesNnet.py:29: RuntimeWarning: divide by zero encountered in log\n",
      "  self.y = np.log(self.timeseries[self.lag:])\n",
      "c:\\users\\ctw00071\\appdata\\local\\continuum\\miniconda3\\envs\\neuralnets\\lib\\site-packages\\nnet_ts\\TimeSeriesNnet.py:60: UserWarning: The `nb_epoch` argument in `fit` has been renamed `epochs`.\n",
      "  self.nn.fit(self.X, self.y, nb_epoch = self.epochs, verbose = self.verbose)\n"
     ]
    },
    {
     "name": "stdout",
     "output_type": "stream",
     "text": [
      "Obs:  9  x=  0.3875  prediction =  0    0.5519\n",
      "dtype: float64\n",
      "262\n"
     ]
    },
    {
     "name": "stderr",
     "output_type": "stream",
     "text": [
      "c:\\users\\ctw00071\\appdata\\local\\continuum\\miniconda3\\envs\\neuralnets\\lib\\site-packages\\nnet_ts\\TimeSeriesNnet.py:29: RuntimeWarning: divide by zero encountered in log\n",
      "  self.y = np.log(self.timeseries[self.lag:])\n",
      "c:\\users\\ctw00071\\appdata\\local\\continuum\\miniconda3\\envs\\neuralnets\\lib\\site-packages\\nnet_ts\\TimeSeriesNnet.py:60: UserWarning: The `nb_epoch` argument in `fit` has been renamed `epochs`.\n",
      "  self.nn.fit(self.X, self.y, nb_epoch = self.epochs, verbose = self.verbose)\n"
     ]
    },
    {
     "name": "stdout",
     "output_type": "stream",
     "text": [
      "Obs:  10  x=  0.4726  prediction =  0    0.5734\n",
      "dtype: float64\n",
      "263\n"
     ]
    },
    {
     "name": "stderr",
     "output_type": "stream",
     "text": [
      "c:\\users\\ctw00071\\appdata\\local\\continuum\\miniconda3\\envs\\neuralnets\\lib\\site-packages\\nnet_ts\\TimeSeriesNnet.py:29: RuntimeWarning: divide by zero encountered in log\n",
      "  self.y = np.log(self.timeseries[self.lag:])\n",
      "c:\\users\\ctw00071\\appdata\\local\\continuum\\miniconda3\\envs\\neuralnets\\lib\\site-packages\\nnet_ts\\TimeSeriesNnet.py:60: UserWarning: The `nb_epoch` argument in `fit` has been renamed `epochs`.\n",
      "  self.nn.fit(self.X, self.y, nb_epoch = self.epochs, verbose = self.verbose)\n"
     ]
    },
    {
     "name": "stdout",
     "output_type": "stream",
     "text": [
      "Obs:  11  x=  0.5188  prediction =  0    0.5812\n",
      "dtype: float64\n",
      "264\n"
     ]
    },
    {
     "name": "stderr",
     "output_type": "stream",
     "text": [
      "c:\\users\\ctw00071\\appdata\\local\\continuum\\miniconda3\\envs\\neuralnets\\lib\\site-packages\\nnet_ts\\TimeSeriesNnet.py:29: RuntimeWarning: divide by zero encountered in log\n",
      "  self.y = np.log(self.timeseries[self.lag:])\n",
      "c:\\users\\ctw00071\\appdata\\local\\continuum\\miniconda3\\envs\\neuralnets\\lib\\site-packages\\nnet_ts\\TimeSeriesNnet.py:60: UserWarning: The `nb_epoch` argument in `fit` has been renamed `epochs`.\n",
      "  self.nn.fit(self.X, self.y, nb_epoch = self.epochs, verbose = self.verbose)\n"
     ]
    },
    {
     "name": "stdout",
     "output_type": "stream",
     "text": [
      "Obs:  12  x=  0.5406  prediction =  0    0.5508\n",
      "dtype: float64\n"
     ]
    }
   ],
   "source": [
    "count = 0 \n",
    "ahead =12 # Since 12 one step ahead forecasts are to be calculated,\n",
    "pred = [] # will store each of the 12 one step ahead predictions.\n",
    "\n",
    "while (count < ahead):\n",
    "    end = len(x) - ahead + count\n",
    "    print(end)\n",
    "    np.random.seed(2016)\n",
    "    \n",
    "    # Model with two hidden layers. The first hidden layer contains 7 nodes, and the second\n",
    "    # hidden layer contains 3 nodes. Both layers use the tanh activation function.\n",
    "    fit1 =  TimeSeriesNnet(hidden_layers = [7,3], activation_functions = ['tanh', 'tanh'])\n",
    "    # On each iteration the model is fit to the data with a one time step lag via the fit function.\n",
    "    fit1.fit(x[0:end], lag=1,epochs=100)\n",
    "    \n",
    "    # This is followed by the predict method used to calculate the forecast. The parameter n_ahead is set to 1 to\n",
    "    # generate a 1 time step ahead forecast.\n",
    "    out = fit1.predict_ahead(n_ahead = 1)\n",
    "    \n",
    "    print('Obs: ', count +1, ' x= ', round(x[count],4), ' prediction = ', round(pd.Series(out),4) )\n",
    "    \n",
    "    # The forecast at each iteration, stored in the object out, is appended to pred.\n",
    "    pred.append(out)\n",
    "    \n",
    "    count = count + 1"
   ]
  },
  {
   "cell_type": "markdown",
   "metadata": {},
   "source": [
    "- **Note:** The data is normalized and nw we need inverse it to obtain the real values. For this we use **inverse_transform** function"
   ]
  },
  {
   "cell_type": "code",
   "execution_count": 122,
   "metadata": {},
   "outputs": [
    {
     "name": "stdout",
     "output_type": "stream",
     "text": [
      "[[11117.2]\n",
      " [11446. ]\n",
      " [12279.8]\n",
      " [13562.4]\n",
      " [14880.4]\n",
      " [13699.3]\n",
      " [12551.4]\n",
      " [12671.3]\n",
      " [13035.4]\n",
      " [14407.1]\n",
      " [14942.2]\n",
      " [12969.3]]\n"
     ]
    }
   ],
   "source": [
    "pred1 = scaler.inverse_transform(pred)\n",
    "pred1 = np.exp(pred1)\n",
    "print(np.round(pred1,1))"
   ]
  },
  {
   "cell_type": "code",
   "execution_count": 129,
   "metadata": {},
   "outputs": [],
   "source": [
    "x_values = np.arange(12)"
   ]
  },
  {
   "cell_type": "code",
   "execution_count": 152,
   "metadata": {},
   "outputs": [
    {
     "data": {
      "text/plain": [
       "<matplotlib.legend.Legend at 0x2061f34b2e8>"
      ]
     },
     "execution_count": 152,
     "metadata": {},
     "output_type": "execute_result"
    },
    {
     "data": {
      "image/png": "[encoded data removed]",
      "text/plain": [
       "<Figure size 432x288 with 1 Axes>"
      ]
     },
     "metadata": {
      "needs_background": "light"
     },
     "output_type": "display_data"
    }
   ],
   "source": [
    "plt.plot(x_values,data[(264-12):264], 'r-', linewidth=2, markersize=12)\n",
    "plt.plot(x_values, pred1, 'g-', linewidth=2, markersize=12)\n",
    "plt.xlabel('Prediction Period')\n",
    "plt.ylabel('Singaporean dollars($)')\n",
    "plt.legend(('Original', 'Predicted'),loc='upper right')"
   ]
  },
  {
   "cell_type": "code",
   "execution_count": null,
   "metadata": {},
   "outputs": [],
   "source": []
  },
  {
   "cell_type": "code",
   "execution_count": null,
   "metadata": {},
   "outputs": [],
   "source": []
  },
  {
   "cell_type": "code",
   "execution_count": null,
   "metadata": {},
   "outputs": [],
   "source": []
  },
  {
   "cell_type": "code",
   "execution_count": null,
   "metadata": {},
   "outputs": [],
   "source": []
  },
  {
   "cell_type": "code",
   "execution_count": null,
   "metadata": {},
   "outputs": [],
   "source": []
  },
  {
   "cell_type": "code",
   "execution_count": null,
   "metadata": {},
   "outputs": [],
   "source": []
  },
  {
   "cell_type": "code",
   "execution_count": null,
   "metadata": {},
   "outputs": [],
   "source": []
  },
  {
   "cell_type": "code",
   "execution_count": null,
   "metadata": {},
   "outputs": [],
   "source": []
  },
  {
   "cell_type": "code",
   "execution_count": null,
   "metadata": {},
   "outputs": [],
   "source": []
  },
  {
   "cell_type": "code",
   "execution_count": null,
   "metadata": {},
   "outputs": [],
   "source": []
  },
  {
   "cell_type": "code",
   "execution_count": null,
   "metadata": {},
   "outputs": [],
   "source": []
  },
  {
   "cell_type": "code",
   "execution_count": null,
   "metadata": {},
   "outputs": [],
   "source": []
  },
  {
   "cell_type": "code",
   "execution_count": null,
   "metadata": {},
   "outputs": [],
   "source": []
  },
  {
   "cell_type": "code",
   "execution_count": null,
   "metadata": {},
   "outputs": [],
   "source": []
  }
 ],
 "metadata": {
  "kernelspec": {
   "display_name": "Python 3",
   "language": "python",
   "name": "python3"
  },
  "language_info": {
   "codemirror_mode": {
    "name": "ipython",
    "version": 3
   },
   "file_extension": ".py",
   "mimetype": "text/x-python",
   "name": "python",
   "nbconvert_exporter": "python",
   "pygments_lexer": "ipython3",
   "version": "3.6.8"
  }
 },
 "nbformat": 4,
 "nbformat_minor": 4
}
