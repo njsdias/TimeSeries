{
 "cells": [
  {
   "cell_type": "markdown",
   "metadata": {},
   "source": [
    "## Chapter 7: Jordan Neural Networks\n",
    "\n",
    "A Jordan network is a single hidden layer feed forward\n",
    "neural network. It is similar to the Elman neural network.\n",
    "The only difference is that **the context (delay)\n",
    "neurons are fed from the output layer instead of the hidden\n",
    "layer**. It therefore “remembers” the output from\n",
    "the previous time-step. Like the Elman neural network, it is\n",
    "**useful for predicting time series observations** which have a short\n",
    "memory."
   ]
  },
  {
   "cell_type": "code",
   "execution_count": 2,
   "metadata": {},
   "outputs": [],
   "source": [
    "import pandas as pd\n",
    "import numpy as np\n",
    "\n",
    "from sklearn import preprocessing\n",
    "\n",
    "from pyneurgen.neuralnet import NeuralNet\n",
    "from pyneurgen.recurrent import JordanRecurrent\n",
    "\n",
    "import matplotlib.pyplot as plt\n",
    "from pylab import plot, legend, subplot\n",
    "\n",
    "import random"
   ]
  },
  {
   "cell_type": "code",
   "execution_count": 3,
   "metadata": {},
   "outputs": [],
   "source": [
    "loc = \"COE.csv\"\n",
    "temp = pd.read_csv(loc)\n",
    "\n",
    "data = temp.drop(temp.columns[[0,1]], axis = 1)\n",
    "y= data['COE$']\n",
    "\n",
    "x = data.drop(data.columns[[0,4]], axis = 1)\n",
    "x =x.apply(np.log)\n",
    "x = pd.concat([x, data['Open?']], axis = 1)\n",
    "\n",
    "\n",
    "scaler_x = preprocessing. MinMaxScaler(feature_range=(0,1))\n",
    "x = np.array(x).reshape((len(x),4))\n",
    "x = scaler_x.fit_transform(x)\n",
    "\n",
    "\n",
    "scaler_y = preprocessing. MinMaxScaler(feature_range=(0,1))\n",
    "y = np.array(y).reshape((len(y),1))\n",
    "y = np.log(y)\n",
    "y = scaler_y.fit_transform(y)\n",
    "\n",
    "x = x.tolist()\n",
    "y = y.tolist()"
   ]
  },
  {
   "cell_type": "code",
   "execution_count": 4,
   "metadata": {},
   "outputs": [
    {
     "name": "stdout",
     "output_type": "stream",
     "text": [
      "epoch: 0 MSE: 0.003922711800346182\n",
      "epoch: 1 MSE: 0.001488878611032201\n",
      "epoch: 2 MSE: 0.001488259226227149\n",
      "epoch: 3 MSE: 0.0014897509245429474\n",
      "epoch: 4 MSE: 0.0014929478962367568\n",
      "epoch: 5 MSE: 0.0014974033303665096\n",
      "epoch: 6 MSE: 0.0015026753066008198\n",
      "epoch: 7 MSE: 0.00150836654246977\n",
      "epoch: 8 MSE: 0.0015141477388383772\n",
      "epoch: 9 MSE: 0.0015197638731870788\n",
      "epoch: 10 MSE: 0.0015250285699732603\n",
      "epoch: 11 MSE: 0.0015298127395045912\n",
      "epoch: 12 MSE: 0.0015340320543221837\n",
      "epoch: 13 MSE: 0.0015376356956510176\n",
      "epoch: 14 MSE: 0.0015405972279256286\n",
      "epoch: 15 MSE: 0.0015429076081741725\n",
      "epoch: 16 MSE: 0.0015445699976894991\n",
      "epoch: 17 MSE: 0.0015455959754758553\n",
      "epoch: 18 MSE: 0.0015460027970841915\n",
      "epoch: 19 MSE: 0.0015458114170669138\n",
      "epoch: 20 MSE: 0.0015450450645774088\n",
      "epoch: 21 MSE: 0.001543728219259703\n",
      "epoch: 22 MSE: 0.0015418858778155039\n",
      "epoch: 23 MSE: 0.00153954303292423\n",
      "epoch: 24 MSE: 0.0015367243084314574\n",
      "epoch: 25 MSE: 0.0015334537104123123\n",
      "epoch: 26 MSE: 0.0015297544647723338\n",
      "epoch: 27 MSE: 0.0015256489198572538\n",
      "epoch: 28 MSE: 0.0015211584980843005\n",
      "epoch: 29 MSE: 0.0015163036845635438\n",
      "epoch: 30 MSE: 0.0015111040435206078\n",
      "epoch: 31 MSE: 0.0015055782553887315\n",
      "epoch: 32 MSE: 0.0014997441689355345\n",
      "epoch: 33 MSE: 0.0014936188638866388\n",
      "epoch: 34 MSE: 0.0014872187203165393\n",
      "epoch: 35 MSE: 0.001480559491677351\n",
      "epoch: 36 MSE: 0.0014736563787873227\n",
      "epoch: 37 MSE: 0.0014665241024480265\n",
      "epoch: 38 MSE: 0.0014591769726362118\n",
      "epoch: 39 MSE: 0.0014516289524512396\n",
      "epoch: 40 MSE: 0.0014438937152143362\n",
      "epoch: 41 MSE: 0.0014359846933297634\n",
      "epoch: 42 MSE: 0.0014279151177449313\n",
      "epoch: 43 MSE: 0.001419698047097234\n",
      "epoch: 44 MSE: 0.0014113463859163535\n",
      "epoch: 45 MSE: 0.0014028728915641564\n",
      "epoch: 46 MSE: 0.0013942901699371272\n",
      "epoch: 47 MSE: 0.0013856106603208778\n",
      "epoch: 48 MSE: 0.0013768466101608385\n",
      "epoch: 49 MSE: 0.0013680100408807977\n",
      "epoch: 50 MSE: 0.0013591127062235978\n",
      "epoch: 51 MSE: 0.0013501660448850357\n",
      "epoch: 52 MSE: 0.0013411811294444676\n",
      "epoch: 53 MSE: 0.0013321686137460977\n",
      "epoch: 54 MSE: 0.0013231386809420338\n",
      "epoch: 55 MSE: 0.0013141009943652218\n",
      "epoch: 56 MSE: 0.0013050646532577958\n",
      "epoch: 57 MSE: 0.0012960381551461676\n",
      "epoch: 58 MSE: 0.0012870293663419844\n",
      "epoch: 59 MSE: 0.001278045501677323\n",
      "epoch: 60 MSE: 0.0012690931141761405\n",
      "epoch: 61 MSE: 0.0012601780949460552\n",
      "epoch: 62 MSE: 0.0012513056831686738\n",
      "epoch: 63 MSE: 0.0012424804856941065\n",
      "epoch: 64 MSE: 0.0012337065054230407\n",
      "epoch: 65 MSE: 0.0012249871773999282\n",
      "epoch: 66 MSE: 0.0012163254113503922\n",
      "epoch: 67 MSE: 0.0012077236392767157\n",
      "epoch: 68 MSE: 0.0011991838666740486\n",
      "epoch: 69 MSE: 0.0011907077259407026\n",
      "epoch: 70 MSE: 0.0011822965306191573\n",
      "epoch: 71 MSE: 0.0011739513292098325\n",
      "epoch: 72 MSE: 0.0011656729574359968\n",
      "epoch: 73 MSE: 0.0011574620879948193\n",
      "epoch: 74 MSE: 0.0011493192769965437\n",
      "epoch: 75 MSE: 0.0011412450064629653\n",
      "epoch: 76 MSE: 0.0011332397224206238\n",
      "epoch: 77 MSE: 0.0011253038682787193\n",
      "epoch: 78 MSE: 0.0011174379133226978\n",
      "epoch: 79 MSE: 0.0011096423762799864\n",
      "epoch: 80 MSE: 0.001101917844022913\n",
      "epoch: 81 MSE: 0.0010942649855661278\n",
      "epoch: 82 MSE: 0.0010866845615913777\n",
      "epoch: 83 MSE: 0.0010791774297932038\n",
      "epoch: 84 MSE: 0.0010717445463858293\n",
      "epoch: 85 MSE: 0.0010643869641456508\n",
      "epoch: 86 MSE: 0.0010571058273867026\n",
      "epoch: 87 MSE: 0.001049902364279848\n",
      "epoch: 88 MSE: 0.0010427778769310394\n",
      "epoch: 89 MSE: 0.0010357337296312077\n",
      "epoch: 90 MSE: 0.0010287713356812562\n",
      "epoch: 91 MSE: 0.001021892143180557\n",
      "epoch: 92 MSE: 0.001015097620147946\n",
      "epoch: 93 MSE: 0.0010083892393203061\n",
      "epoch: 94 MSE: 0.0010017684629467158\n",
      "epoch: 95 MSE: 0.0009952367278662604\n",
      "epoch: 96 MSE: 0.0009887954311254676\n",
      "epoch: 97 MSE: 0.0009824459163578984\n",
      "epoch: 98 MSE: 0.0009761894611139288\n",
      "epoch: 99 MSE: 0.0009700272652942445\n"
     ]
    }
   ],
   "source": [
    "random.seed(2016)\n",
    "\n",
    "fit1 =NeuralNet()\n",
    "\n",
    "input_nodes= 4\n",
    "hidden_nodes = 7\n",
    "output_nodes= 1\n",
    "\n",
    "existing_weight_factor =  0.9\n",
    "\n",
    "fit1.init_layers(input_nodes, [hidden_nodes], output_nodes, JordanRecurrent(existing_weight_factor))\n",
    "fit1.randomize_network()\n",
    "fit1.layers[1].set_activation_type('sigmoid')\n",
    "fit1.set_learnrate(0.05)\n",
    "\n",
    "fit1.set_all_inputs(x)\n",
    "fit1.set_all_targets(y)\n",
    "\n",
    "length = len(x)\n",
    "# The train set contains approximately 95% of the samples.\n",
    "learn_end_point = int(length * 0.95)\n",
    "\n",
    "fit1.set_learn_range(0, learn_end_point)\n",
    "fit1.set_test_range(learn_end_point + 1, length - 1)\n",
    "fit1.learn(epochs=100, show_epoch_results=True, random_testing=False)"
   ]
  },
  {
   "cell_type": "code",
   "execution_count": 5,
   "metadata": {},
   "outputs": [
    {
     "data": {
      "text/plain": [
       "Text(0.5, 1.0, 'Mean Squared Error by Epoch')"
      ]
     },
     "execution_count": 5,
     "metadata": {},
     "output_type": "execute_result"
    },
    {
     "data": {
      "image/png": "[encoded data removed]",
      "text/plain": [
       "<Figure size 432x288 with 1 Axes>"
      ]
     },
     "metadata": {
      "needs_background": "light"
     },
     "output_type": "display_data"
    }
   ],
   "source": [
    "plt.plot(range(1, len(fit1.accum_mse) + 1, 1), fit1.accum_mse)\n",
    "plt.xlabel('epochs')\n",
    "plt.ylabel('mean squared error')\n",
    "plt.grid(True)\n",
    "plt.title(\"Mean Squared Error by Epoch\")"
   ]
  },
  {
   "cell_type": "code",
   "execution_count": 6,
   "metadata": {},
   "outputs": [
    {
     "name": "stdout",
     "output_type": "stream",
     "text": [
      "test set MSE =  8.4e-05\n"
     ]
    }
   ],
   "source": [
    "# test set performance is obtained using the test() function:\n",
    "mse = fit1.test()\n",
    "print( \"test set MSE = \", np.round(mse, 6))"
   ]
  },
  {
   "cell_type": "code",
   "execution_count": 7,
   "metadata": {},
   "outputs": [
    {
     "data": {
      "text/plain": [
       "<matplotlib.legend.Legend at 0x24798f42630>"
      ]
     },
     "execution_count": 7,
     "metadata": {},
     "output_type": "execute_result"
    },
    {
     "data": {
      "image/png": "[encoded data removed]",
      "text/plain": [
       "<Figure size 432x288 with 1 Axes>"
      ]
     },
     "metadata": {
      "needs_background": "light"
     },
     "output_type": "display_data"
    }
   ],
   "source": [
    "x_values = np.arange(12)\n",
    "all_targets1 = [item[0][0] for item in fit1.test_targets_activations]\n",
    "allactuals = [item[1][0] for item in fit1.test_targets_activations]\n",
    "\n",
    "plt.plot(x_values, all_targets1, 'g-', linewidth=2, markersize=12)\n",
    "plt.plot(x_values,allactuals, 'r-', linewidth=2, markersize=12)\n",
    "plt.xlabel('Prediction Period')\n",
    "plt.ylabel('Singaporean dollars($)')\n",
    "plt.legend(('Original', 'Predicted'),loc='upper right')"
   ]
  },
  {
   "cell_type": "code",
   "execution_count": 8,
   "metadata": {},
   "outputs": [
    {
     "data": {
      "text/plain": [
       "[0.5115646767544664,\n",
       " 0.5174090798989919,\n",
       " 0.5462942051781285,\n",
       " 0.5610954679045019,\n",
       " 0.5849053802741075,\n",
       " 0.5806239421115522,\n",
       " 0.5513256262849617,\n",
       " 0.5446984685711735,\n",
       " 0.5696224247910611,\n",
       " 0.5747940838934837,\n",
       " 0.5772680753193098,\n",
       " 0.559415522274407]"
      ]
     },
     "execution_count": 8,
     "metadata": {},
     "output_type": "execute_result"
    }
   ],
   "source": [
    "all_targets1"
   ]
  },
  {
   "cell_type": "code",
   "execution_count": null,
   "metadata": {},
   "outputs": [],
   "source": []
  },
  {
   "cell_type": "code",
   "execution_count": null,
   "metadata": {},
   "outputs": [],
   "source": []
  },
  {
   "cell_type": "code",
   "execution_count": null,
   "metadata": {},
   "outputs": [],
   "source": []
  },
  {
   "cell_type": "code",
   "execution_count": null,
   "metadata": {},
   "outputs": [],
   "source": []
  },
  {
   "cell_type": "code",
   "execution_count": null,
   "metadata": {},
   "outputs": [],
   "source": []
  },
  {
   "cell_type": "code",
   "execution_count": null,
   "metadata": {},
   "outputs": [],
   "source": []
  }
 ],
 "metadata": {
  "kernelspec": {
   "display_name": "Python 3",
   "language": "python",
   "name": "python3"
  },
  "language_info": {
   "codemirror_mode": {
    "name": "ipython",
    "version": 3
   },
   "file_extension": ".py",
   "mimetype": "text/x-python",
   "name": "python",
   "nbconvert_exporter": "python",
   "pygments_lexer": "ipython3",
   "version": "3.6.8"
  }
 },
 "nbformat": 4,
 "nbformat_minor": 4
}
